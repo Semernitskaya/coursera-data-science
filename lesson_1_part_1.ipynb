{
 "cells": [
  {
   "cell_type": "code",
   "execution_count": 1,
   "metadata": {
    "pycharm": {
     "name": "#%%\n"
    }
   },
   "outputs": [
    {
     "name": "stdout",
     "output_type": "stream",
     "text": [
      "1\n",
      "13\n",
      "14\n",
      "15\n"
     ]
    }
   ],
   "source": [
    "# functions\n",
    "x = 1\n",
    "print(x)\n",
    "\n",
    "def sum(x, y):\n",
    "    return x + y\n",
    "print (sum(6, 7))\n",
    "\n",
    "def sum(x, y, z=None):\n",
    "    if(z == None):\n",
    "        return x + y\n",
    "    else:\n",
    "        return x + y + z\n",
    "print(sum(7, 5, 2))\n",
    "\n",
    "my_fun = sum\n",
    "\n",
    "print(my_fun(7, 8))"
   ]
  },
  {
   "cell_type": "code",
   "execution_count": 2,
   "metadata": {},
   "outputs": [
    {
     "name": "stdout",
     "output_type": "stream",
     "text": [
      "None type:<class 'NoneType'>\n",
      "1 type:<class 'int'>\n",
      "1.0 type:<class 'float'>\n",
      "fff type:<class 'str'>\n",
      "<function print_type at 0x10fe08c10> type:<class 'function'>\n",
      "(1, 'f', 3) type:<class 'tuple'>\n",
      "[1, 'f', 3] type:<class 'list'>\n",
      "{1: 'str_1', 2: None} type:<class 'dict'>\n"
     ]
    }
   ],
   "source": [
    "# types and data structures\n",
    "def print_type(val):\n",
    "    print(str(val) + \" type:\" + str(type(val)))\n",
    "print_type(None)\n",
    "print_type(1)\n",
    "print_type(1.0)\n",
    "print_type(\"fff\")\n",
    "print_type(print_type)\n",
    "print_type((1, 'f', 3))\n",
    "print_type([1, 'f', 3])\n",
    "print_type({1: 'str_1', 2: None})"
   ]
  },
  {
   "cell_type": "code",
   "execution_count": 3,
   "metadata": {},
   "outputs": [
    {
     "name": "stdout",
     "output_type": "stream",
     "text": [
      "1\n",
      "f\n",
      "3\n",
      "1\n",
      "f\n",
      "3\n",
      "1\n",
      "2\n",
      "(1, 'str_1')\n",
      "(2, None)\n",
      "str_1\n",
      "None\n",
      "4\n"
     ]
    }
   ],
   "source": [
    "# data structures\n",
    "\n",
    "for item in (1, 'f', 3):\n",
    "    print(item)\n",
    "\n",
    "for item in [1, 'f', 3]:\n",
    "    print(item)\n",
    "\n",
    "dict = {1: 'str_1', 2: None}\n",
    "for item in dict:\n",
    "    print(item)\n",
    "\n",
    "for item in dict.items():\n",
    "    print(item)\n",
    "    \n",
    "for item in dict.values():\n",
    "    print(item)\n",
    "    \n",
    "print(max([1, 4, -6]))     "
   ]
  },
  {
   "cell_type": "code",
   "execution_count": 4,
   "metadata": {},
   "outputs": [
    {
     "data": {
      "text/plain": [
       "[1, 4, -6, 1, 4]"
      ]
     },
     "execution_count": 4,
     "metadata": {},
     "output_type": "execute_result"
    }
   ],
   "source": [
    "[1, 4, -6] + [1, 4]"
   ]
  },
  {
   "cell_type": "code",
   "execution_count": 5,
   "metadata": {},
   "outputs": [
    {
     "data": {
      "text/plain": [
       "[1, 4, -6, 1, 4, -6, 1, 4, -6, 1, 4, -6, 1, 4, -6, 1, 4, -6, 1, 4, -6]"
      ]
     },
     "execution_count": 5,
     "metadata": {},
     "output_type": "execute_result"
    }
   ],
   "source": [
    "[1, 4, -6] * 7"
   ]
  },
  {
   "cell_type": "code",
   "execution_count": 6,
   "metadata": {},
   "outputs": [
    {
     "name": "stdout",
     "output_type": "stream",
     "text": [
      "M\n",
      "5\n",
      "MyStr\n",
      "yStr\n",
      "12345\n"
     ]
    }
   ],
   "source": [
    "# slicing\n",
    "s = \"MyStr my str 12345\"\n",
    "print(s[0])\n",
    "print(s[-1])\n",
    "print(s[:5])\n",
    "print(s[1:5])\n",
    "print(s[-5:])"
   ]
  },
  {
   "cell_type": "code",
   "execution_count": 7,
   "metadata": {},
   "outputs": [
    {
     "name": "stdout",
     "output_type": "stream",
     "text": [
      "['MyStr', 'my', 'str', '12345']\n",
      "['MyStr my ', 'tr 12345']\n",
      "MyStr my str 12345 3.4\n",
      "MyStr my str 12345 3.4\n",
      "my log message 'MyStr my str 12345' # 1\n"
     ]
    }
   ],
   "source": [
    "# strings\n",
    "print(s.split(\" \"))\n",
    "print(s.split(\"s\"))\n",
    "print(s + \" \" + str(3.4)) \n",
    "print(s + \" \" + str(3.4)) \n",
    "\n",
    "print(\"my log message '{}' # {}\".format(s, 1))"
   ]
  },
  {
   "cell_type": "code",
   "execution_count": 8,
   "metadata": {},
   "outputs": [
    {
     "name": "stdout",
     "output_type": "stream",
     "text": [
      "1\n",
      "2\n",
      "3\n"
     ]
    }
   ],
   "source": [
    "x, y, z = (1, 2, 3)\n",
    "print(x)\n",
    "print(y)\n",
    "print(z)"
   ]
  }
 ],
 "metadata": {
  "kernelspec": {
   "display_name": "Python 3",
   "language": "python",
   "name": "python3"
  },
  "language_info": {
   "codemirror_mode": {
    "name": "ipython",
    "version": 3
   },
   "file_extension": ".py",
   "mimetype": "text/x-python",
   "name": "python",
   "nbconvert_exporter": "python",
   "pygments_lexer": "ipython3",
   "version": "3.9.0"
  }
 },
 "nbformat": 4,
 "nbformat_minor": 1
}