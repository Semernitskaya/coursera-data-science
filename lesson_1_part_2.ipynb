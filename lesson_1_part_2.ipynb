{
 "cells": [
  {
   "cell_type": "code",
   "execution_count": 9,
   "id": "renewable-administration",
   "metadata": {},
   "outputs": [
    {
     "name": "stdout",
     "output_type": "stream",
     "text": [
      "1615913519.3241978\n",
      "2021-03-16\n",
      "Year 2021, hour 18, full 2021-03-16 18:51:59.324377\n",
      "2021-03-16 20:51:59.324377\n"
     ]
    }
   ],
   "source": [
    "# dates & times\n",
    "import datetime as dt\n",
    "import time as tm\n",
    "\n",
    "print(tm.time())\n",
    "print(dt.date.today())\n",
    "\n",
    "dtnow = dt.datetime.fromtimestamp(tm.time())\n",
    "print(\"Year {}, hour {}, full {}\".format(dtnow.year, dtnow.hour, dtnow))\n",
    "\n",
    "print(dtnow + dt.timedelta(hours=2))\n"
   ]
  },
  {
   "cell_type": "code",
   "execution_count": 3,
   "id": "utility-gnome",
   "metadata": {},
   "outputs": [
    {
     "name": "stdout",
     "output_type": "stream",
     "text": [
      "<class 'type'>\n",
      "<class '__main__.Person'>\n",
      "dep_1\n"
     ]
    }
   ],
   "source": [
    "# classes\n",
    "class Person:\n",
    "    department = 'dep_1'\n",
    "    \n",
    "    def set_name(self, name):\n",
    "        self.name = name\n",
    "        \n",
    "person = Person()\n",
    "print(type(Person)) \n",
    "print(type(person)) \n",
    "print(person.department) \n"
   ]
  },
  {
   "cell_type": "code",
   "execution_count": 14,
   "id": "defined-military",
   "metadata": {},
   "outputs": [
    {
     "name": "stdout",
     "output_type": "stream",
     "text": [
      "<map object at 0x1058e2100>\n",
      "first run 1\n",
      "first run 2\n",
      "first run 0\n"
     ]
    }
   ],
   "source": [
    "# map function\n",
    "min_val = map(min, [1, 2, 10], [10, 20, 0])\n",
    "print(min_val)\n",
    "for val in min_val:\n",
    "    print(\"first run \" + str(val))\n",
    "    \n",
    "for val in min_val:\n",
    "    print(\"second run \" + str(val))"
   ]
  },
  {
   "cell_type": "code",
   "execution_count": 17,
   "id": "vanilla-residence",
   "metadata": {},
   "outputs": [
    {
     "name": "stdout",
     "output_type": "stream",
     "text": [
      "<class 'function'>\n",
      "4\n"
     ]
    }
   ],
   "source": [
    "# lambdas\n",
    "my_lambda = lambda a, b: a + b\n",
    "print(type(my_lambda))\n",
    "print(my_lambda(1, 3))"
   ]
  },
  {
   "cell_type": "code",
   "execution_count": 20,
   "id": "incident-forest",
   "metadata": {},
   "outputs": [
    {
     "name": "stdout",
     "output_type": "stream",
     "text": [
      "[0, 2, 4, 6, 8, 10, 12, 14, 16, 18, 20, 22, 24, 26, 28, 30, 32, 34, 36, 38, 40, 42, 44, 46, 48, 50, 52, 54, 56, 58, 60, 62, 64, 66, 68, 70, 72, 74, 76, 78, 80, 82, 84, 86, 88, 90, 92, 94, 96, 98]\n",
      "[0, 3, 6, 9, 12, 15, 18, 21, 24, 27, 30, 33, 36, 39, 42, 45, 48, 51, 54, 57, 60, 63, 66, 69, 72, 75, 78, 81, 84, 87, 90, 93, 96, 99]\n"
     ]
    }
   ],
   "source": [
    "# list comprehensions\n",
    "my_list = []\n",
    "for i in range(0, 100):\n",
    "    if i % 2 == 0:\n",
    "        my_list.append(i)\n",
    "print(my_list)\n",
    "\n",
    "my_list = [i for i in range (0, 100) if i % 3 == 0]\n",
    "print(my_list)"
   ]
  }
 ],
 "metadata": {
  "kernelspec": {
   "display_name": "Python 3",
   "language": "python",
   "name": "python3"
  },
  "language_info": {
   "codemirror_mode": {
    "name": "ipython",
    "version": 3
   },
   "file_extension": ".py",
   "mimetype": "text/x-python",
   "name": "python",
   "nbconvert_exporter": "python",
   "pygments_lexer": "ipython3",
   "version": "3.9.0"
  }
 },
 "nbformat": 4,
 "nbformat_minor": 5
}