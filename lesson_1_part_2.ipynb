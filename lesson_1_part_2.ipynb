{
 "cells": [
  {
   "cell_type": "code",
   "execution_count": 9,
   "id": "renewable-administration",
   "metadata": {},
   "outputs": [
    {
     "name": "stdout",
     "output_type": "stream",
     "text": [
      "1615913519.3241978\n",
      "2021-03-16\n",
      "Year 2021, hour 18, full 2021-03-16 18:51:59.324377\n",
      "2021-03-16 20:51:59.324377\n"
     ]
    }
   ],
   "source": [
    "# dates & times\n",
    "import datetime as dt\n",
    "import time as tm\n",
    "\n",
    "print(tm.time())\n",
    "print(dt.date.today())\n",
    "\n",
    "dtnow = dt.datetime.fromtimestamp(tm.time())\n",
    "print(\"Year {}, hour {}, full {}\".format(dtnow.year, dtnow.hour, dtnow))\n",
    "\n",
    "print(dtnow + dt.timedelta(hours=2))\n"
   ]
  },
  {
   "cell_type": "code",
   "execution_count": null,
   "id": "utility-gnome",
   "metadata": {},
   "outputs": [],
   "source": []
  }
 ],
 "metadata": {
  "kernelspec": {
   "display_name": "Python 3",
   "language": "python",
   "name": "python3"
  },
  "language_info": {
   "codemirror_mode": {
    "name": "ipython",
    "version": 3
   },
   "file_extension": ".py",
   "mimetype": "text/x-python",
   "name": "python",
   "nbconvert_exporter": "python",
   "pygments_lexer": "ipython3",
   "version": "3.9.0"
  }
 },
 "nbformat": 4,
 "nbformat_minor": 5
}
