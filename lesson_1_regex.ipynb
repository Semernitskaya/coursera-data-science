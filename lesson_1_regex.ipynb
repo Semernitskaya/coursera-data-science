{
 "cells": [
  {
   "cell_type": "code",
   "execution_count": 8,
   "id": "palestinian-island",
   "metadata": {},
   "outputs": [
    {
     "name": "stdout",
     "output_type": "stream",
     "text": [
      "<re.Match object; span=(0, 2), match='Hi'>\n",
      "<re.Match object; span=(0, 12), match='Hi from code'>\n",
      "None\n",
      "Hi!\n",
      "['Hi', 'from', 'code']\n",
      "['om', 'od']\n",
      "['om code']\n"
     ]
    }
   ],
   "source": [
    "import re \n",
    "\n",
    "text = \"Hi from code\"\n",
    "print(re.search(\"Hi\", text))\n",
    "print(re.search(\"H.+\", text))\n",
    "print(re.search(\"hi\", text))\n",
    "\n",
    "if re.search(\"H.+\", text):\n",
    "    print(\"Hi!\")\n",
    "\n",
    "print(re.split(\" \", text))\n",
    "print(re.findall(\"o.\", text))\n",
    "print(re.findall(\"o.+\", text))"
   ]
  },
  {
   "cell_type": "code",
   "execution_count": 30,
   "id": "acoustic-amount",
   "metadata": {},
   "outputs": [
    {
     "name": "stdout",
     "output_type": "stream",
     "text": [
      "<re.Match object; span=(0, 2), match='Hi'>\n",
      "None\n",
      "['i', 'o', 'o']\n",
      "['i', 'om']\n",
      "['i', 'f', 'r', 'o', 'm', 'c', 'o', 'd', 'e']\n",
      "[]\n",
      "['ab', 'ab', 'ab']\n",
      "[' ', ' ', ' ']\n",
      "i\n",
      "om\n"
     ]
    }
   ],
   "source": [
    "# regex examples\n",
    "\n",
    "print(re.search(\"^Hi\", text))\n",
    "print(re.search(\"^code\", text))\n",
    "print(re.findall(\"[oi]\", text))\n",
    "print(re.findall(\"om|i\", text))\n",
    "print(re.findall(\"[^H ]\", text))\n",
    "\n",
    "print(re.findall(\"M\", text))\n",
    "\n",
    "print(re.findall(\"(ab){2,2}\", \"abab abac ababab ababab\"))\n",
    "print(re.findall(\"[\\s]\", \"abab abac ababab ababab\"))\n",
    "\n",
    "\n",
    "for s in re.findall(\"om|i\", text):\n",
    "    print(s)"
   ]
  },
  {
   "cell_type": "code",
   "execution_count": 52,
   "id": "known-oxygen",
   "metadata": {},
   "outputs": [
    {
     "name": "stdout",
     "output_type": "stream",
     "text": [
      "ab\n",
      "ac\n",
      "ab\n",
      "ab\n",
      "abab\n",
      "ab\n",
      "ab\n",
      "abac\n",
      "ab\n",
      "ac\n",
      "abab\n",
      "ab\n",
      "ab\n",
      "abab\n",
      "ab\n",
      "ab\n",
      "gr_1 ab\n",
      "groups {'my_gr_1': 'ab', 'my_gr_2': 'ab'}\n",
      "gr_1 ab\n",
      "groups {'my_gr_1': 'ab', 'my_gr_2': 'ac'}\n",
      "gr_1 ab\n",
      "groups {'my_gr_1': 'ab', 'my_gr_2': 'ab'}\n",
      "gr_1 ab\n",
      "groups {'my_gr_1': 'ab', 'my_gr_2': 'ab'}\n"
     ]
    }
   ],
   "source": [
    "# groups\n",
    "for s in map(lambda t: t[1], re.findall(\"(ab)(a.)\", \"abab abac ababab ababab\")):\n",
    "    print(s)\n",
    "\n",
    "for item in re.finditer(\"(ab)(a.)\", \"abab abac ababab ababab\"):\n",
    "    print(item.group(0))\n",
    "    print(item.group(1))\n",
    "    print(item.group(2))\n",
    "\n",
    "for item in re.finditer(\"(?P<my_gr_1>ab)(?P<my_gr_2>a.)\", \"abab abac ababab ababab\"):\n",
    "    print(\"gr_1 \" + item.group(\"my_gr_1\"))\n",
    "    print(\"groups \" + str(item.groupdict()))\n",
    "    "
   ]
  },
  {
   "cell_type": "code",
   "execution_count": 56,
   "id": "sunrise-spirituality",
   "metadata": {},
   "outputs": [
    {
     "name": "stdout",
     "output_type": "stream",
     "text": [
      "{'my_gr_2': 'ab'}\n",
      "{'my_gr_2': 'ac'}\n",
      "{'my_gr_2': 'au'}\n"
     ]
    }
   ],
   "source": [
    "# look ahead and look behind\n",
    "for item in re.finditer(\"(?<=ab)(?P<my_gr_2>a.)\", \"abab abac abau\"):\n",
    "    print(item.groupdict())"
   ]
  },
  {
   "cell_type": "code",
   "execution_count": 60,
   "id": "bearing-spoke",
   "metadata": {},
   "outputs": [
    {
     "name": "stdout",
     "output_type": "stream",
     "text": [
      "abab\n",
      "abac\n",
      "abau\n"
     ]
    }
   ],
   "source": [
    "pattern = \"\"\"\n",
    "(ab) #ab group\n",
    "(a.) #a-something group \n",
    "\"\"\"\n",
    "for item in re.finditer(pattern, \"abab abac abau\", re.VERBOSE):\n",
    "    print(item.group())"
   ]
  }
 ],
 "metadata": {
  "kernelspec": {
   "display_name": "Python 3",
   "language": "python",
   "name": "python3"
  },
  "language_info": {
   "codemirror_mode": {
    "name": "ipython",
    "version": 3
   },
   "file_extension": ".py",
   "mimetype": "text/x-python",
   "name": "python",
   "nbconvert_exporter": "python",
   "pygments_lexer": "ipython3",
   "version": "3.9.0"
  }
 },
 "nbformat": 4,
 "nbformat_minor": 5
}