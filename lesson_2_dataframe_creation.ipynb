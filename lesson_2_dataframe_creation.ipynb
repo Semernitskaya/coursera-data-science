{
 "cells": [
  {
   "cell_type": "code",
   "execution_count": 11,
   "metadata": {},
   "outputs": [
    {
     "name": "stdout",
     "output_type": "stream",
     "text": [
      "name       Alice\n",
      "class    physics\n",
      "score         85\n",
      "dtype: object\n",
      "    name    class  score\n",
      "0  Alice  physics     85\n",
      "1   Jack     math     95\n",
      "2  Helen  history     90\n",
      "          name    class  score\n",
      "school1  Alice  physics     85\n",
      "school2   Jack     math     95\n",
      "school3  Helen  history     90\n"
     ]
    },
    {
     "data": {
      "text/html": [
       "<div>\n",
       "<style scoped>\n",
       "    .dataframe tbody tr th:only-of-type {\n",
       "        vertical-align: middle;\n",
       "    }\n",
       "\n",
       "    .dataframe tbody tr th {\n",
       "        vertical-align: top;\n",
       "    }\n",
       "\n",
       "    .dataframe thead th {\n",
       "        text-align: right;\n",
       "    }\n",
       "</style>\n",
       "<table border=\"1\" class=\"dataframe\">\n",
       "  <thead>\n",
       "    <tr style=\"text-align: right;\">\n",
       "      <th></th>\n",
       "      <th>name</th>\n",
       "      <th>class</th>\n",
       "      <th>score</th>\n",
       "    </tr>\n",
       "  </thead>\n",
       "  <tbody>\n",
       "    <tr>\n",
       "      <th>school1</th>\n",
       "      <td>Alice</td>\n",
       "      <td>physics</td>\n",
       "      <td>85</td>\n",
       "    </tr>\n",
       "    <tr>\n",
       "      <th>school2</th>\n",
       "      <td>Jack</td>\n",
       "      <td>math</td>\n",
       "      <td>95</td>\n",
       "    </tr>\n",
       "    <tr>\n",
       "      <th>school3</th>\n",
       "      <td>Helen</td>\n",
       "      <td>history</td>\n",
       "      <td>90</td>\n",
       "    </tr>\n",
       "  </tbody>\n",
       "</table>\n",
       "</div>"
      ],
      "text/plain": [
       "          name    class  score\n",
       "school1  Alice  physics     85\n",
       "school2   Jack     math     95\n",
       "school3  Helen  history     90"
      ]
     },
     "execution_count": 11,
     "metadata": {},
     "output_type": "execute_result"
    }
   ],
   "source": [
    "import pandas as pd\n",
    "\n",
    "# DF from Series\n",
    "record1 = pd.Series({'name': 'Alice', 'class': 'physics', 'score': 85})\n",
    "record2 = pd.Series({'name': 'Jack', 'class': 'math', 'score': 95})\n",
    "record3 = pd.Series({'name': 'Helen', 'class': 'history', 'score': 90})\n",
    "\n",
    "print(record1)\n",
    "\n",
    "df = pd.DataFrame([record1, record2, record3])\n",
    "\n",
    "print(df)\n",
    "\n",
    "df = pd.DataFrame([record1, record2, record3], index=['school1', 'school2', 'school3'])\n",
    "\n",
    "print(df)\n",
    "df.head()\n",
    "df.tail()\n"
   ]
  },
  {
   "cell_type": "code",
   "execution_count": 54,
   "metadata": {},
   "outputs": [
    {
     "data": {
      "text/plain": [
       "pandas.core.frame.DataFrame"
      ]
     },
     "execution_count": 54,
     "metadata": {},
     "output_type": "execute_result"
    }
   ],
   "source": [
    "# DF from list of dictionarie\n",
    "\n",
    "students =[{'name': 'Alice', 'class': 'physics', 'score': 85},\n",
    "    {'name': 'Jack', 'class': 'math', 'score': 95},\n",
    "    {'name': 'Helen', 'class': 'history', 'score': 90}]\n",
    "\n",
    "df = pd.DataFrame(students, index=['school1', 'school1', 'school2'])\n",
    "df.tail()\n",
    "type(df)\n"
   ]
  },
  {
   "cell_type": "code",
   "execution_count": 37,
   "metadata": {},
   "outputs": [
    {
     "name": "stdout",
     "output_type": "stream",
     "text": [
      "name       Helen\n",
      "class    history\n",
      "score         90\n",
      "Name: school2, dtype: object\n",
      "name       Alice\n",
      "class    physics\n",
      "score         85\n",
      "Name: school1, dtype: object\n",
      "<class 'pandas.core.series.Series'>\n",
      "          name    class  score\n",
      "school1  Alice  physics     85\n",
      "school1   Jack     math     95\n",
      "\n",
      "Object: \n",
      "school1    Alice\n",
      "school1     Jack\n",
      "Name: name, dtype: object\n",
      "Type: <class 'pandas.core.series.Series'>\n",
      "\n",
      "Object: \n",
      "Helen\n",
      "Type: <class 'str'>\n",
      "\n",
      "Object: \n",
      "          name  score\n",
      "school1  Alice     85\n",
      "school1   Jack     95\n",
      "Type: <class 'pandas.core.frame.DataFrame'>\n",
      "\n",
      "Object: \n",
      "name     Helen\n",
      "score       90\n",
      "Name: school2, dtype: object\n",
      "Type: <class 'pandas.core.series.Series'>\n"
     ]
    }
   ],
   "source": [
    "def print_obj(obj):\n",
    "    print(\"\")\n",
    "    print(\"Object: \")\n",
    "    print(obj)\n",
    "    print(\"Type: \" + str(type(obj)))\n",
    "\n",
    "# loc, iloc\n",
    "print(df.loc['school2'])\n",
    "print(df.iloc[0])\n",
    "print(type(df.iloc[0]))\n",
    "\n",
    "print(df.loc['school1'])\n",
    "# print(df.loc['school3'])\n",
    "\n",
    "print_obj(df.loc['school1', 'name'])\n",
    "print_obj(df.loc['school2', 'name'])\n",
    "print_obj(df.loc['school1', ['name', 'score']])\n",
    "print_obj(df.loc['school2', ['name', 'score']])\n"
   ]
  },
  {
   "cell_type": "code",
   "execution_count": 32,
   "metadata": {},
   "outputs": [
    {
     "name": "stdout",
     "output_type": "stream",
     "text": [
      "\n",
      "Object: \n",
      "       school1 school1  school2\n",
      "name     Alice    Jack    Helen\n",
      "class  physics    math  history\n",
      "score       85      95       90\n",
      "Type: <class 'pandas.core.frame.DataFrame'>\n",
      "\n",
      "Object: \n",
      "school1    Alice\n",
      "school1     Jack\n",
      "school2    Helen\n",
      "Name: name, dtype: object\n",
      "Type: <class 'pandas.core.series.Series'>\n",
      "\n",
      "Object: \n",
      "school1    Alice\n",
      "school1     Jack\n",
      "school2    Helen\n",
      "Name: name, dtype: object\n",
      "Type: <class 'pandas.core.series.Series'>\n"
     ]
    }
   ],
   "source": [
    "# transpose\n",
    "print_obj(df.T)\n",
    "\n",
    "print_obj(df.T.loc['name'])\n",
    "\n",
    "print_obj(df['name'])\n",
    "\n",
    "# df['school1']"
   ]
  },
  {
   "cell_type": "code",
   "execution_count": 33,
   "metadata": {},
   "outputs": [
    {
     "name": "stdout",
     "output_type": "stream",
     "text": [
      "\n",
      "Object: \n",
      "school1    Alice\n",
      "school1     Jack\n",
      "Name: name, dtype: object\n",
      "Type: <class 'pandas.core.series.Series'>\n"
     ]
    }
   ],
   "source": [
    "# chained operations\n",
    "print_obj(df.loc['school1']['name']) # returns copy of DF"
   ]
  },
  {
   "cell_type": "code",
   "execution_count": 47,
   "metadata": {},
   "outputs": [
    {
     "data": {
      "text/html": [
       "<div>\n",
       "<style scoped>\n",
       "    .dataframe tbody tr th:only-of-type {\n",
       "        vertical-align: middle;\n",
       "    }\n",
       "\n",
       "    .dataframe tbody tr th {\n",
       "        vertical-align: top;\n",
       "    }\n",
       "\n",
       "    .dataframe thead th {\n",
       "        text-align: right;\n",
       "    }\n",
       "</style>\n",
       "<table border=\"1\" class=\"dataframe\">\n",
       "  <thead>\n",
       "    <tr style=\"text-align: right;\">\n",
       "      <th></th>\n",
       "      <th>class</th>\n",
       "      <th>score</th>\n",
       "    </tr>\n",
       "  </thead>\n",
       "  <tbody>\n",
       "    <tr>\n",
       "      <th>school1</th>\n",
       "      <td>math</td>\n",
       "      <td>95</td>\n",
       "    </tr>\n",
       "    <tr>\n",
       "      <th>school2</th>\n",
       "      <td>history</td>\n",
       "      <td>90</td>\n",
       "    </tr>\n",
       "  </tbody>\n",
       "</table>\n",
       "</div>"
      ],
      "text/plain": [
       "           class  score\n",
       "school1     math     95\n",
       "school2  history     90"
      ]
     },
     "execution_count": 47,
     "metadata": {},
     "output_type": "execute_result"
    }
   ],
   "source": [
    "# slicing\n",
    "df.loc[:, ['name', 'score']]\n",
    "df.loc[:, ['class', 'score']]\n",
    "df.iloc[1:].loc[:, ['class', 'score']]"
   ]
  },
  {
   "cell_type": "code",
   "execution_count": 60,
   "metadata": {},
   "outputs": [
    {
     "name": "stdout",
     "output_type": "stream",
     "text": [
      "\n",
      "Object: \n",
      "          name    class  score\n",
      "school2  Helen  history     90\n",
      "Type: <class 'pandas.core.frame.DataFrame'>\n",
      "\n",
      "Object: \n",
      "           class  score\n",
      "school1  physics     85\n",
      "school1     math     95\n",
      "school2  history     90\n",
      "Type: <class 'pandas.core.frame.DataFrame'>\n",
      "\n",
      "Object: \n",
      "          name    class  score\n",
      "school1  Alice  physics     85\n",
      "school1   Jack     math     95\n",
      "school2  Helen  history     90\n",
      "Type: <class 'pandas.core.frame.DataFrame'>\n",
      "\n",
      "Object: \n",
      "None\n",
      "Type: <class 'NoneType'>\n",
      "\n",
      "Object: \n",
      "          name    class  score\n",
      "school2  Helen  history     90\n",
      "Type: <class 'pandas.core.frame.DataFrame'>\n",
      "\n",
      "Object: \n",
      "          name    class  score\n",
      "school1  Alice  physics     85\n",
      "school1   Jack     math     95\n",
      "school2  Helen  history     90\n",
      "Type: <class 'pandas.core.frame.DataFrame'>\n",
      "\n",
      "Object: \n",
      "          name  score\n",
      "school2  Helen     90\n",
      "Type: <class 'pandas.core.frame.DataFrame'>\n"
     ]
    }
   ],
   "source": [
    "# dropping\n",
    "print_obj(df.drop('school1'))\n",
    "print_obj(df.drop('name', axis=1))\n",
    "print_obj(df)\n",
    "df_copy = df.copy()\n",
    "\n",
    "print_obj(df_copy.drop('school1', inplace=True))\n",
    "print_obj(df_copy)\n",
    "print_obj(df)\n",
    "\n",
    "del df_copy['class']\n",
    "print_obj(df_copy)"
   ]
  },
  {
   "cell_type": "code",
   "execution_count": 71,
   "metadata": {},
   "outputs": [
    {
     "name": "stdout",
     "output_type": "stream",
     "text": [
      "          name    class  score ClassRanking\n",
      "school1  Alice  physics     85         None\n",
      "school1   Jack     math     95         None\n",
      "school2  Helen  history     90         None\n",
      "          name    class  score  ClassRanking\n",
      "school1  Alice  physics     85           100\n",
      "school1   Jack     math     95           100\n",
      "school2  Helen  history     90           100\n"
     ]
    }
   ],
   "source": [
    "# adding column\n",
    "df['ClassRanking'] = None\n",
    "print(df)\n",
    "df['ClassRanking'] = 100\n",
    "print(df)\n"
   ]
  },
  {
   "cell_type": "code",
   "execution_count": null,
   "metadata": {},
   "outputs": [],
   "source": []
  }
 ],
 "metadata": {
  "kernelspec": {
   "display_name": "Python 3",
   "language": "python",
   "name": "python3"
  },
  "language_info": {
   "codemirror_mode": {
    "name": "ipython",
    "version": 3
   },
   "file_extension": ".py",
   "mimetype": "text/x-python",
   "name": "python",
   "nbconvert_exporter": "python",
   "pygments_lexer": "ipython3",
   "version": "3.9.0"
  }
 },
 "nbformat": 4,
 "nbformat_minor": 1
}
