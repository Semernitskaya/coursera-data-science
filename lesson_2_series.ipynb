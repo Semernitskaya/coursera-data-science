{
 "cells": [
  {
   "cell_type": "code",
   "execution_count": 2,
   "id": "psychological-johnson",
   "metadata": {},
   "outputs": [],
   "source": [
    "import pandas as pd"
   ]
  },
  {
   "cell_type": "code",
   "execution_count": 15,
   "id": "operating-reputation",
   "metadata": {},
   "outputs": [
    {
     "name": "stdout",
     "output_type": "stream",
     "text": [
      "0    Alice\n",
      "1     Jack\n",
      "2    Molly\n",
      "3     None\n",
      "dtype: object\n",
      "0    1\n",
      "1    2\n",
      "2    5\n",
      "dtype: int64\n",
      "0    1.0\n",
      "1    2.0\n",
      "2    5.0\n",
      "3    NaN\n",
      "dtype: float64\n",
      "Alice    Physics\n",
      "Jack        Math\n",
      "Molly    English\n",
      "dtype: object\n",
      "Alice    Physics\n",
      "Jack        Math\n",
      "NaN      English\n",
      "dtype: object\n"
     ]
    }
   ],
   "source": [
    "# series creation\n",
    "students = ['Alice', 'Jack', 'Molly', None]\n",
    "series = pd.Series(students)\n",
    "print(series)\n",
    "print(pd.Series([1, 2, 5]))\n",
    "print(pd.Series([1, 2, 5, None]))\n",
    "print(pd.Series({'Alice': 'Physics', 'Jack': 'Math', 'Molly': 'English'}))\n",
    "print(pd.Series({'Alice': 'Physics', 'Jack': 'Math', None: 'English'}))"
   ]
  },
  {
   "cell_type": "code",
   "execution_count": 12,
   "id": "synthetic-chemical",
   "metadata": {},
   "outputs": [
    {
     "name": "stdout",
     "output_type": "stream",
     "text": [
      "False\n",
      "False\n",
      "True\n",
      "False\n",
      "True\n",
      "False\n"
     ]
    }
   ],
   "source": [
    "# NAN value\n",
    "import numpy as np\n",
    "print(None == np.nan)\n",
    "print(np.nan == np.nan)\n",
    "print(None == None)\n",
    "print(np.nan == 0)\n",
    "\n",
    "print(np.isnan(np.nan))\n",
    "print(np.isnan(1))\n",
    "# print(np.isnan(None))"
   ]
  },
  {
   "cell_type": "code",
   "execution_count": 34,
   "id": "tired-missouri",
   "metadata": {},
   "outputs": [
    {
     "name": "stdout",
     "output_type": "stream",
     "text": [
      "Index(['Alice', 'Jack', 'Molly'], dtype='object')\n",
      "0    (Alice, Physics)\n",
      "1        (Jack, Math)\n",
      "2    (Molly, English)\n",
      "dtype: object\n",
      "a    1\n",
      "b    2\n",
      "a    5\n",
      "dtype: int64\n",
      "Alice    Physics\n",
      "Molly    English\n",
      "Sam          NaN\n",
      "dtype: object\n"
     ]
    }
   ],
   "source": [
    "# series indexes\n",
    "student_scores = {'Alice': 'Physics', 'Jack': 'Math', 'Molly': 'English'}\n",
    "s = pd.Series(student_scores)\n",
    "print(s.index)\n",
    "\n",
    "students = [('Alice', 'Physics'), ('Jack', 'Math'), ('Molly', 'English')]\n",
    "st = pd.Series(students)\n",
    "print(st)\n",
    "\n",
    "print(pd.Series([1, 2, 5], index=['a', 'b', 'a']))\n",
    "print(pd.Series(student_scores, index=['Alice', 'Molly', 'Sam']))"
   ]
  },
  {
   "cell_type": "code",
   "execution_count": 37,
   "id": "adapted-python",
   "metadata": {},
   "outputs": [
    {
     "name": "stdout",
     "output_type": "stream",
     "text": [
      "Alice    Physics\n",
      "Jack        Math\n",
      "Molly    English\n",
      "NaN      History\n",
      "dtype: object\n",
      "English\n",
      "English\n",
      "History\n",
      "History\n",
      "Math\n",
      "English\n",
      "99     Physics\n",
      "100       Math\n",
      "101    History\n",
      "dtype: object\n",
      "Physics\n"
     ]
    }
   ],
   "source": [
    "# series queries\n",
    "student_scores = {'Alice': 'Physics', \n",
    "                  'Jack': 'Math', \n",
    "                  'Molly': 'English',\n",
    "                   None: 'History'}\n",
    "s = pd.Series(student_scores)\n",
    "print(s)\n",
    "\n",
    "print(s.iloc[2])\n",
    "print(s.loc['Molly'])\n",
    "print(s.iloc[3])\n",
    "# print(s.loc[np.nan])\n",
    "\n",
    "print(s[3])\n",
    "print(s[-3])\n",
    "print(s['Molly'])\n",
    "# print(s['Hi'])\n",
    "\n",
    "class_code = {99: 'Physics', 100: 'Math', 101: 'History'}\n",
    "s = pd.Series(class_code)\n",
    "print(s)\n",
    "# print(s[0])\n",
    "print(s[99])"
   ]
  },
  {
   "cell_type": "code",
   "execution_count": 40,
   "id": "functioning-egyptian",
   "metadata": {},
   "outputs": [
    {
     "name": "stdout",
     "output_type": "stream",
     "text": [
      "90\n",
      "80\n",
      "60\n",
      "70\n",
      "300\n",
      "300\n"
     ]
    }
   ],
   "source": [
    "# series operations, vectorisation\n",
    "grades = pd.Series([90, 80, 60, 70])\n",
    "total = 0\n",
    "for grade in grades:\n",
    "    print(grade)\n",
    "    total += grade\n",
    "print (total)\n",
    "\n",
    "total = np.sum(grades)\n",
    "print(total)"
   ]
  },
  {
   "cell_type": "code",
   "execution_count": 41,
   "id": "listed-refund",
   "metadata": {},
   "outputs": [
    {
     "name": "stdout",
     "output_type": "stream",
     "text": [
      "0    743\n",
      "1    740\n",
      "2    356\n",
      "3    929\n",
      "4    494\n",
      "dtype: int64\n",
      "10000\n"
     ]
    }
   ],
   "source": [
    "numbers = pd.Series(np.random.randint(0, 1000, 10000))\n",
    "print(numbers.head())\n",
    "print(len(numbers))"
   ]
  },
  {
   "cell_type": "code",
   "execution_count": 42,
   "id": "super-inquiry",
   "metadata": {},
   "outputs": [
    {
     "name": "stdout",
     "output_type": "stream",
     "text": [
      "1.22 ms ± 11.8 µs per loop (mean ± std. dev. of 7 runs, 100 loops each)\n"
     ]
    }
   ],
   "source": [
    "%%timeit -n 100\n",
    "total = 0\n",
    "for n in numbers:\n",
    "    total += n\n",
    "total"
   ]
  },
  {
   "cell_type": "code",
   "execution_count": 43,
   "id": "expected-belief",
   "metadata": {},
   "outputs": [
    {
     "name": "stdout",
     "output_type": "stream",
     "text": [
      "58 µs ± 10.3 µs per loop (mean ± std. dev. of 7 runs, 100 loops each)\n"
     ]
    }
   ],
   "source": [
    "%%timeit -n 100\n",
    "np.sum(numbers)"
   ]
  },
  {
   "cell_type": "code",
   "execution_count": 49,
   "id": "specified-power",
   "metadata": {},
   "outputs": [
    {
     "name": "stdout",
     "output_type": "stream",
     "text": [
      "0    747\n",
      "1    744\n",
      "2    360\n",
      "3    933\n",
      "4    498\n",
      "dtype: int64\n",
      "0    749\n",
      "1    746\n",
      "2    362\n",
      "3    935\n",
      "4    500\n",
      "dtype: int64\n"
     ]
    }
   ],
   "source": [
    "print(numbers.head())\n",
    "numbers += 2\n",
    "print(numbers.head())"
   ]
  },
  {
   "cell_type": "code",
   "execution_count": 50,
   "id": "partial-brush",
   "metadata": {},
   "outputs": [
    {
     "name": "stdout",
     "output_type": "stream",
     "text": [
      "0    751\n",
      "1    748\n",
      "2    364\n",
      "3    937\n",
      "4    502\n",
      "dtype: int64\n"
     ]
    }
   ],
   "source": [
    "for l, val in numbers.iteritems():\n",
    "    numbers.loc[l] = val + 2\n",
    "print(numbers.head())"
   ]
  },
  {
   "cell_type": "code",
   "execution_count": 51,
   "id": "successful-plaintiff",
   "metadata": {},
   "outputs": [
    {
     "name": "stdout",
     "output_type": "stream",
     "text": [
      "42.2 ms ± 744 µs per loop (mean ± std. dev. of 7 runs, 100 loops each)\n"
     ]
    }
   ],
   "source": [
    "%%timeit -n 100\n",
    "numbers = pd.Series(np.random.randint(0, 1000, 1000))\n",
    "for l, val in numbers.iteritems():\n",
    "    numbers.loc[l] = val + 2"
   ]
  },
  {
   "cell_type": "code",
   "execution_count": 52,
   "id": "light-cause",
   "metadata": {},
   "outputs": [
    {
     "name": "stdout",
     "output_type": "stream",
     "text": [
      "225 µs ± 26.2 µs per loop (mean ± std. dev. of 7 runs, 100 loops each)\n"
     ]
    }
   ],
   "source": [
    "%%timeit -n 100\n",
    "numbers = pd.Series(np.random.randint(0, 1000, 1000))\n",
    "numbers += 2"
   ]
  },
  {
   "cell_type": "code",
   "execution_count": 55,
   "id": "vanilla-breach",
   "metadata": {},
   "outputs": [
    {
     "name": "stdout",
     "output_type": "stream",
     "text": [
      "0    1\n",
      "1    2\n",
      "2    5\n",
      "dtype: int64\n",
      "0      11\n",
      "1       2\n",
      "2      55\n",
      "ab    abc\n",
      "dtype: object\n"
     ]
    }
   ],
   "source": [
    "s = pd.Series([1, 2, 5])\n",
    "print(s)\n",
    "\n",
    "s.loc['ab'] = 'abc'\n",
    "s.loc[0] = 11\n",
    "s[2] = 55\n",
    "print(s)"
   ]
  },
  {
   "cell_type": "code",
   "execution_count": 62,
   "id": "upset-purse",
   "metadata": {},
   "outputs": [
    {
     "name": "stdout",
     "output_type": "stream",
     "text": [
      "0     111\n",
      "1       2\n",
      "2      55\n",
      "ab    abc\n",
      "dtype: object\n",
      "n    111\n",
      "n      2\n",
      "n      3\n",
      "dtype: int64\n",
      "0     111\n",
      "1       2\n",
      "2      55\n",
      "ab    abc\n",
      "n       1\n",
      "n       2\n",
      "n       3\n",
      "dtype: object\n",
      "n    1\n",
      "n    2\n",
      "n    3\n",
      "dtype: object\n"
     ]
    }
   ],
   "source": [
    "# non-unique indexes\n",
    "s_new = pd.Series([1, 2, 3], index=['n', 'n', 'n'])\n",
    "s_concat = s.append(s_new)\n",
    "s[0] = 111\n",
    "s_new[0] = 111\n",
    "print(s)\n",
    "print(s_new)\n",
    "print(s_concat)\n",
    "print(s_concat['n'])"
   ]
  },
  {
   "cell_type": "code",
   "execution_count": null,
   "id": "sharing-heavy",
   "metadata": {},
   "outputs": [],
   "source": []
  },
  {
   "cell_type": "code",
   "execution_count": null,
   "id": "impossible-requirement",
   "metadata": {},
   "outputs": [],
   "source": []
  }
 ],
 "metadata": {
  "kernelspec": {
   "display_name": "Python 3",
   "language": "python",
   "name": "python3"
  },
  "language_info": {
   "codemirror_mode": {
    "name": "ipython",
    "version": 3
   },
   "file_extension": ".py",
   "mimetype": "text/x-python",
   "name": "python",
   "nbconvert_exporter": "python",
   "pygments_lexer": "ipython3",
   "version": "3.9.0"
  }
 },
 "nbformat": 4,
 "nbformat_minor": 5
}